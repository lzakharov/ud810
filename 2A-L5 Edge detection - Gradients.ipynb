{
 "cells": [
  {
   "cell_type": "markdown",
   "metadata": {},
   "source": [
    "# 2A-L5 Edge detection: Gradients"
   ]
  },
  {
   "cell_type": "markdown",
   "metadata": {},
   "source": [
    "## Gradient Direction"
   ]
  },
  {
   "cell_type": "code",
   "execution_count": 1,
   "metadata": {},
   "outputs": [
    {
     "data": {
      "image/png": "[encoded data removed]",
      "text/plain": [
       "<Figure size 432x288 with 1 Axes>"
      ]
     },
     "metadata": {
      "needs_background": "light"
     },
     "output_type": "display_data"
    }
   ],
   "source": [
    "import numpy as np\n",
    "import cv2\n",
    "from matplotlib import pyplot as plt\n",
    "%matplotlib inline\n",
    "\n",
    "img = cv2.imread('./images/octagon.png', cv2.IMREAD_GRAYSCALE) / 255\n",
    "plt.imshow(img, cmap='gray');"
   ]
  },
  {
   "cell_type": "markdown",
   "metadata": {},
   "source": [
    "### Compute x, y gradients"
   ]
  },
  {
   "cell_type": "code",
   "execution_count": 2,
   "metadata": {},
   "outputs": [
    {
     "data": {
      "image/png": "[encoded data removed]",
      "text/plain": [
       "<Figure size 432x288 with 2 Axes>"
      ]
     },
     "metadata": {},
     "output_type": "display_data"
    }
   ],
   "source": [
    "gx = cv2.Sobel(img, -1, dx=1, dy=0)\n",
    "gy = cv2.Sobel(img, -1, dx=0, dy=1)\n",
    "\n",
    "plt.subplot(1, 2, 1)\n",
    "plt.imshow(gx, cmap='gray')\n",
    "plt.title('gx'), plt.xticks([]), plt.yticks([])\n",
    "plt.subplot(1, 2, 2)\n",
    "plt.imshow(gy, cmap='gray')\n",
    "plt.title('gy'), plt.xticks([]), plt.yticks([]);"
   ]
  },
  {
   "cell_type": "markdown",
   "metadata": {},
   "source": [
    "### Obtain gradient magnitude and direction"
   ]
  },
  {
   "cell_type": "code",
   "execution_count": 3,
   "metadata": {},
   "outputs": [
    {
     "data": {
      "image/png": "[encoded data removed]",
      "text/plain": [
       "<Figure size 432x288 with 2 Axes>"
      ]
     },
     "metadata": {},
     "output_type": "display_data"
    }
   ],
   "source": [
    "gmag = np.sqrt(gx**2 + gy**2)\n",
    "gdir = np.arctan2(-gy, gx) * 180 / np.pi\n",
    "\n",
    "plt.subplot(1, 2, 1)\n",
    "plt.imshow(gmag / (4 * np.sqrt(2)), cmap='gray')\n",
    "plt.title('gmag'), plt.xticks([]), plt.yticks([])\n",
    "plt.subplot(1, 2, 2)\n",
    "plt.imshow(gdir, cmap='gray')\n",
    "plt.title('gdir'), plt.xticks([]), plt.yticks([]);"
   ]
  },
  {
   "cell_type": "markdown",
   "metadata": {},
   "source": [
    "### Find pixels with desired gradient direction"
   ]
  },
  {
   "cell_type": "code",
   "execution_count": 4,
   "metadata": {},
   "outputs": [
    {
     "data": {
      "image/png": "[encoded data removed]",
      "text/plain": [
       "<Figure size 432x288 with 3 Axes>"
      ]
     },
     "metadata": {},
     "output_type": "display_data"
    }
   ],
   "source": [
    "def select_gdir(gmag, gdir, mag_min, angle_low, angle_high):\n",
    "    result = gmag >= mag_min\n",
    "    result &= gdir >= angle_low \n",
    "    result &= gdir <= angle_high\n",
    "    return result.astype(np.float)\n",
    "\n",
    "plt.subplot(1, 3, 1)\n",
    "plt.imshow(select_gdir(gmag, gdir, 1, 30, 60), cmap='gray')\n",
    "plt.title('From 30° To 60°'), plt.xticks([]), plt.yticks([])\n",
    "plt.subplot(1, 3, 2)\n",
    "plt.imshow(select_gdir(gmag, gdir, 1, -15, 15), cmap='gray')\n",
    "plt.title('From -15° To 15°'), plt.xticks([]), plt.yticks([]);\n",
    "plt.subplot(1, 3, 3)\n",
    "plt.imshow(select_gdir(gmag, gdir, 1, -150, -120), cmap='gray')\n",
    "plt.title('From -150° To -120°'), plt.xticks([]), plt.yticks([]);"
   ]
  }
 ],
 "metadata": {
  "kernelspec": {
   "display_name": "Python 3",
   "language": "python",
   "name": "python3"
  },
  "language_info": {
   "codemirror_mode": {
    "name": "ipython",
    "version": 3
   },
   "file_extension": ".py",
   "mimetype": "text/x-python",
   "name": "python",
   "nbconvert_exporter": "python",
   "pygments_lexer": "ipython3",
   "version": "3.6.6"
  }
 },
 "nbformat": 4,
 "nbformat_minor": 2
}
